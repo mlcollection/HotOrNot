{
 "cells": [
  {
   "cell_type": "markdown",
   "metadata": {},
   "source": [
    "<img src=\"images/Spotify_Logo_RGB_Green.png\" width=\"400\"/>"
   ]
  },
  {
   "cell_type": "markdown",
   "metadata": {},
   "source": [
    "### Import modules"
   ]
  },
  {
   "cell_type": "code",
   "execution_count": 1,
   "metadata": {},
   "outputs": [],
   "source": [
    "import pandas as pd"
   ]
  },
  {
   "cell_type": "markdown",
   "metadata": {},
   "source": [
    "### Import the dataset"
   ]
  },
  {
   "cell_type": "code",
   "execution_count": 2,
   "metadata": {},
   "outputs": [],
   "source": [
    "Hot100 = pd.read_csv('Hot100Complete.csv')"
   ]
  },
  {
   "cell_type": "markdown",
   "metadata": {},
   "source": [
    "### Isolate the unique tracks from January 1, 2000"
   ]
  },
  {
   "cell_type": "code",
   "execution_count": 3,
   "metadata": {},
   "outputs": [
    {
     "name": "stdout",
     "output_type": "stream",
     "text": [
      "28,519 unique tracks\n"
     ]
    }
   ],
   "source": [
    "# Unique tracks\n",
    "ut = Hot100.groupby(['Title', 'Artist']).ngroups\n",
    "\n",
    "print('{:,} unique tracks'.format(ut))"
   ]
  },
  {
   "cell_type": "code",
   "execution_count": 4,
   "metadata": {},
   "outputs": [],
   "source": [
    "# Unique records indexed by the highest position of the track\n",
    "indices = Hot100.groupby(['Title', 'Artist'])['Peak'].idxmin\n",
    "Hot100 = Hot100.loc[indices].sort_index()\n",
    "Hot100.reset_index(drop = True, inplace = True)"
   ]
  },
  {
   "cell_type": "markdown",
   "metadata": {},
   "source": [
    "Musical preferences and tastes change over the years so it is important to only use current music data for the classifier. In this case, I have subset the data to records from January 1, 2000 to current date. Audio features and audio analysis will be taken from Spotify API. These defining characteristics will become the features for my classifier."
   ]
  },
  {
   "cell_type": "code",
   "execution_count": 5,
   "metadata": {},
   "outputs": [
    {
     "name": "stdout",
     "output_type": "stream",
     "text": [
      "8,034 total records\n"
     ]
    }
   ],
   "source": [
    "Hot100 = Hot100[Hot100['Date'] >= '2000-01-01']\n",
    "\n",
    "records = len(Hot100)\n",
    "print('{:,} total records'.format(records))"
   ]
  },
  {
   "cell_type": "code",
   "execution_count": 6,
   "metadata": {},
   "outputs": [
    {
     "data": {
      "text/html": [
       "<div>\n",
       "<style scoped>\n",
       "    .dataframe tbody tr th:only-of-type {\n",
       "        vertical-align: middle;\n",
       "    }\n",
       "\n",
       "    .dataframe tbody tr th {\n",
       "        vertical-align: top;\n",
       "    }\n",
       "\n",
       "    .dataframe thead th {\n",
       "        text-align: right;\n",
       "    }\n",
       "</style>\n",
       "<table border=\"1\" class=\"dataframe\">\n",
       "  <thead>\n",
       "    <tr style=\"text-align: right;\">\n",
       "      <th></th>\n",
       "      <th>Title</th>\n",
       "      <th>Artist</th>\n",
       "    </tr>\n",
       "  </thead>\n",
       "  <tbody>\n",
       "    <tr>\n",
       "      <th>0</th>\n",
       "      <td>The Box</td>\n",
       "      <td>Roddy Ricch</td>\n",
       "    </tr>\n",
       "    <tr>\n",
       "      <th>1</th>\n",
       "      <td>Life Is Good</td>\n",
       "      <td>Future Featuring Drake</td>\n",
       "    </tr>\n",
       "    <tr>\n",
       "      <th>2</th>\n",
       "      <td>Godzilla</td>\n",
       "      <td>Eminem Featuring Juice WRLD</td>\n",
       "    </tr>\n",
       "    <tr>\n",
       "      <th>3</th>\n",
       "      <td>Circles</td>\n",
       "      <td>Post Malone</td>\n",
       "    </tr>\n",
       "    <tr>\n",
       "      <th>4</th>\n",
       "      <td>Memories</td>\n",
       "      <td>Maroon 5</td>\n",
       "    </tr>\n",
       "  </tbody>\n",
       "</table>\n",
       "</div>"
      ],
      "text/plain": [
       "          Title                       Artist\n",
       "0       The Box                  Roddy Ricch\n",
       "1  Life Is Good       Future Featuring Drake\n",
       "2      Godzilla  Eminem Featuring Juice WRLD\n",
       "3       Circles                  Post Malone\n",
       "4      Memories                     Maroon 5"
      ]
     },
     "execution_count": 6,
     "metadata": {},
     "output_type": "execute_result"
    }
   ],
   "source": [
    "Hot100.drop(['Date', 'Rank', 'Peak', 'Weeks'], axis = 1, inplace = True)\n",
    "Hot100.head()"
   ]
  },
  {
   "cell_type": "markdown",
   "metadata": {},
   "source": [
    "The Spotipy module allows us to look up tracks by artist and title. To improve chances of retrieving songs, I will use regular expressions to format the search terms to avoid returning 'Not Found'. Most, but not all, songs found on the charts will be found on Spotify. Those that aren't will be removed."
   ]
  },
  {
   "cell_type": "code",
   "execution_count": null,
   "metadata": {},
   "outputs": [],
   "source": [
    "import re"
   ]
  },
  {
   "cell_type": "code",
   "execution_count": null,
   "metadata": {},
   "outputs": [],
   "source": [
    "title = Hot100['Title'].tolist()\n",
    "title_match = ['\\'',\n",
    "               '\\s\\(.*$']\n",
    "title = [re.sub('|'.join(title_match), '', i) for i in title]\n",
    "\n",
    "artist = Hot100['Artist'].tolist()\n",
    "artist_match = ['\\sFeaturing.*$',\n",
    "                '\\sfeaturing.*$',\n",
    "                '\\sFeauring.*$',\n",
    "                '\\s\\(Featuring.*$',\n",
    "                '\\s\\(With.*$',\n",
    "                '\\s\\(Duet.*$',\n",
    "                '\\sIntroducing.*$',\n",
    "                '\\s\\\"Fenderella\\\"',\n",
    "                'The West Coast Rap All-Stars',\n",
    "                '\\sVs.*$',\n",
    "                '\\sX\\s.*$',\n",
    "                '\\sx\\s.*$',\n",
    "                '\\sWith\\s.*$',\n",
    "                '\\swith\\s.*$',\n",
    "                '\\sPresents.*$',\n",
    "                '\\sPresents.*$',\n",
    "                '\\s&\\s.*$',\n",
    "                ',.*$',\n",
    "                '\\'']\n",
    "\n",
    "artist = [re.sub('|'.join(artist_match), '', i) for i in artist]"
   ]
  },
  {
   "cell_type": "markdown",
   "metadata": {},
   "source": [
    "### Use the Spotipy API to access audio features"
   ]
  },
  {
   "cell_type": "code",
   "execution_count": null,
   "metadata": {},
   "outputs": [],
   "source": [
    "import spotipy\n",
    "from spotipy.oauth2 import SpotifyClientCredentials"
   ]
  },
  {
   "cell_type": "code",
   "execution_count": null,
   "metadata": {},
   "outputs": [],
   "source": [
    "client_id = 'yourclientidhere'\n",
    "client_secret = 'yourclientsecrethere'\n",
    "\n",
    "client_credentials_manager = SpotifyClientCredentials(client_id, client_secret)\n",
    "sp = spotipy.Spotify(client_credentials_manager = client_credentials_manager)"
   ]
  },
  {
   "cell_type": "markdown",
   "metadata": {},
   "source": [
    "Retrieve Spotify URIs (ID number) for all tracks in the dataframe. The list created will be used as a new column in the dataframe. Not found items will be removed as they cannot be used in our modelling."
   ]
  },
  {
   "cell_type": "code",
   "execution_count": null,
   "metadata": {},
   "outputs": [],
   "source": [
    "# Retrieve Spotify URI\n",
    "spotify_uri = []\n",
    "\n",
    "for i in range(len(title)):\n",
    "    \n",
    "    t = title[i]\n",
    "    a = artist[i]\n",
    "    \n",
    "    search = '{} {}'.format(t, a)\n",
    "    results = sp.search(q = search, limit = 1, type = 'track')    \n",
    "    \n",
    "    try:\n",
    "        uri = results['tracks']['items'][0]['uri']\n",
    "        spotify_uri.append(uri)\n",
    "   \n",
    "    except:\n",
    "        spotify_uri.append('Not Found')\n",
    "        \n",
    "# Add a column for SpotifyURI \n",
    "Hot100['SpotifyURI'] = spotify_uri\n",
    "            \n",
    "# Remove 'Not Found'           \n",
    "Hot100 = Hot100[Hot100['SpotifyURI'] != 'Not Found']"
   ]
  },
  {
   "cell_type": "markdown",
   "metadata": {},
   "source": [
    "Retrieve all audio features and audio analysis from Spotify using the URIs we found in the previous step."
   ]
  },
  {
   "cell_type": "code",
   "execution_count": null,
   "metadata": {},
   "outputs": [],
   "source": [
    "# Add Audio Features/Audio Analysis\n",
    "acousticness = []\n",
    "danceability = []\n",
    "duration_ms = []\n",
    "dyn_range = []\n",
    "energy = []\n",
    "explicit = []\n",
    "instrumentalness = []\n",
    "key = []\n",
    "liveness = []\n",
    "loudness = []\n",
    "mode = []\n",
    "num_sections = []\n",
    "popularity = []\n",
    "release_date = []\n",
    "speechiness = []\n",
    "tempo = []\n",
    "time_signature = []\n",
    "valence = []\n",
    "\n",
    "spotify_uri = Hot100['SpotifyURI'].tolist()\n",
    "\n",
    "for uri in spotify_uri:\n",
    "    track_data = sp.track(uri)\n",
    "         \n",
    "    release_date.append(track_data['album']['release_date'])\n",
    "    popularity.append(track_data['popularity'])\n",
    "    x = track_data['explicit']\n",
    "    if x == True:\n",
    "        explicit.append(1)\n",
    "    else:\n",
    "        explicit.append(0)\n",
    "    \n",
    "    metadata = sp.audio_features(uri)\n",
    "    section_data = sp.audio_analysis(uri)\n",
    "    num = len(section_data['sections'])\n",
    "    num_sections.append(num)\n",
    "    \n",
    "    for audio_features in metadata:\n",
    "        acousticness.append(audio_features['acousticness'])\n",
    "        danceability.append(audio_features['danceability'])\n",
    "        duration_ms.append(audio_features['duration_ms'])\n",
    "        energy.append(audio_features['energy'])\n",
    "        instrumentalness.append(audio_features['instrumentalness'])\n",
    "        key.append(audio_features['key'])\n",
    "        liveness.append(audio_features['liveness'])\n",
    "        loudness.append(audio_features['loudness'])\n",
    "        mode.append(audio_features['mode'])\n",
    "        speechiness.append(audio_features['speechiness'])\n",
    "        tempo.append(audio_features['tempo'])    \n",
    "        time_signature.append(audio_features['time_signature'])    \n",
    "        valence.append(audio_features['valence'])\n",
    "        \n",
    "        dB = []\n",
    "        for i in range(num):\n",
    "            dB.append(section_data['sections'][i]['loudness'])\n",
    "        try:\n",
    "            dyn_range.append(max(dB) - min(dB))\n",
    "        except:\n",
    "            dyn_range.append('Not Found')           \n",
    "            \n",
    "Hot = pd.DataFrame({\n",
    "    'SpotifyURI' : spotify_uri,\n",
    "    'Acousticness' : acousticness,\n",
    "    'Danceability' : danceability,\n",
    "    'DurationMS' : duration_ms,\n",
    "    'DynamicRange' : dyn_range,\n",
    "    'Energy' : energy,\n",
    "    'Explicit' : explicit,\n",
    "    'Instrumentalness' : instrumentalness,\n",
    "    'Key' : key,\n",
    "    'Liveness' : liveness,\n",
    "    'Loudness' : loudness,\n",
    "    'Mode' : mode,\n",
    "    'Popularity' : popularity,\n",
    "    'ReleaseDate' : release_date,\n",
    "    'Sections' : num_sections,\n",
    "    'Speechiness' : speechiness,\n",
    "    'Tempo' : tempo,\n",
    "    'TimeSignature' : time_signature,\n",
    "    'Valence' : valence})\n",
    "\n",
    "# Add a label for Hit status\n",
    "Hot['Hot'] = 1\n",
    "\n",
    "# Export dataframe\n",
    "Hot.to_csv('Hot.csv', index = False)"
   ]
  },
  {
   "cell_type": "code",
   "execution_count": 7,
   "metadata": {},
   "outputs": [],
   "source": [
    "Hot = pd.read_csv('Hot.csv')"
   ]
  },
  {
   "cell_type": "code",
   "execution_count": 8,
   "metadata": {},
   "outputs": [
    {
     "name": "stdout",
     "output_type": "stream",
     "text": [
      "<class 'pandas.core.frame.DataFrame'>\n",
      "RangeIndex: 7937 entries, 0 to 7936\n",
      "Data columns (total 20 columns):\n",
      "SpotifyURI          7937 non-null object\n",
      "Acousticness        7937 non-null float64\n",
      "Danceability        7937 non-null float64\n",
      "DurationMS          7937 non-null int64\n",
      "DynamicRange        7937 non-null float64\n",
      "Energy              7937 non-null float64\n",
      "Explicit            7937 non-null int64\n",
      "Instrumentalness    7937 non-null float64\n",
      "Key                 7937 non-null int64\n",
      "Liveness            7937 non-null float64\n",
      "Loudness            7937 non-null float64\n",
      "Mode                7937 non-null int64\n",
      "Popularity          7937 non-null int64\n",
      "ReleaseDate         7937 non-null object\n",
      "Sections            7937 non-null int64\n",
      "Speechiness         7937 non-null float64\n",
      "Tempo               7937 non-null float64\n",
      "TimeSignature       7937 non-null int64\n",
      "Valence             7937 non-null float64\n",
      "Hot                 7937 non-null int64\n",
      "dtypes: float64(10), int64(8), object(2)\n",
      "memory usage: 1.2+ MB\n"
     ]
    }
   ],
   "source": [
    "Hot.info()"
   ]
  },
  {
   "cell_type": "markdown",
   "metadata": {},
   "source": [
    "### Retrieve random, non-Hit songs"
   ]
  },
  {
   "cell_type": "markdown",
   "metadata": {},
   "source": [
    "Now we need to create records for non-hits. We will use the same steps as before but we will use a random search to find the tracks from Spotify."
   ]
  },
  {
   "cell_type": "code",
   "execution_count": 9,
   "metadata": {},
   "outputs": [],
   "source": [
    "import string\n",
    "from random import choice"
   ]
  },
  {
   "cell_type": "code",
   "execution_count": 10,
   "metadata": {},
   "outputs": [],
   "source": [
    "letters = list(string.ascii_lowercase)\n",
    "numbers = list(range(100))\n",
    "years = list(range(2020, 1999, -1))"
   ]
  },
  {
   "cell_type": "code",
   "execution_count": null,
   "metadata": {},
   "outputs": [],
   "source": [
    "# Retrieve random spotify uris\n",
    "uri = []\n",
    "\n",
    "for i in tqdm(range(50_000)):\n",
    "    t = choice(letters)\n",
    "    a = choice(letters)\n",
    "    y = choice(years)\n",
    "    o = choice(numbers)\n",
    "    search = 'title:{} artist:{} year:{}'.format(t, a, y)\n",
    "    results = sp.search(q = search, limit = 1, type = 'track', offset = o)   \n",
    "    \n",
    "    try:\n",
    "        spotify_uri = results['tracks']['items'][0]['uri']\n",
    "        uri.append(spotify_uri)\n",
    "    \n",
    "    except:\n",
    "        pass"
   ]
  },
  {
   "cell_type": "markdown",
   "metadata": {},
   "source": [
    "To ensure that any of the randomly chosen songs are not already in the \"Hot\" songs, we will remove all songs that intersect between both sets."
   ]
  },
  {
   "cell_type": "code",
   "execution_count": null,
   "metadata": {},
   "outputs": [],
   "source": [
    "# List of all uris from Hot dataframe\n",
    "spotify_uri = Hot['SpotifyURI'].tolist()\n",
    "\n",
    "# Unique uris not in Hot\n",
    "uri = list(set(uri) - set(spotify_uri).intersection(uri))"
   ]
  },
  {
   "cell_type": "markdown",
   "metadata": {},
   "source": [
    "In the same way we got features for the Hot tracks, we will do the same for the \"Not Hot\" songs."
   ]
  },
  {
   "cell_type": "code",
   "execution_count": null,
   "metadata": {},
   "outputs": [],
   "source": [
    "# Export dataframe\n",
    "Not.to_csv('Not.csv', index = False)"
   ]
  },
  {
   "cell_type": "code",
   "execution_count": 11,
   "metadata": {},
   "outputs": [],
   "source": [
    "Not = pd.read_csv('Not.csv')"
   ]
  },
  {
   "cell_type": "code",
   "execution_count": 12,
   "metadata": {},
   "outputs": [
    {
     "name": "stdout",
     "output_type": "stream",
     "text": [
      "<class 'pandas.core.frame.DataFrame'>\n",
      "RangeIndex: 10227 entries, 0 to 10226\n",
      "Data columns (total 20 columns):\n",
      "SpotifyURI          10227 non-null object\n",
      "Acousticness        10227 non-null float64\n",
      "Danceability        10227 non-null float64\n",
      "DurationMS          10227 non-null int64\n",
      "DynamicRange        10227 non-null float64\n",
      "Energy              10227 non-null float64\n",
      "Explicit            10227 non-null int64\n",
      "Instrumentalness    10227 non-null float64\n",
      "Key                 10227 non-null int64\n",
      "Liveness            10227 non-null float64\n",
      "Loudness            10227 non-null float64\n",
      "Mode                10227 non-null int64\n",
      "Popularity          10227 non-null int64\n",
      "ReleaseDate         10227 non-null object\n",
      "Sections            10227 non-null int64\n",
      "Speechiness         10227 non-null float64\n",
      "Tempo               10227 non-null float64\n",
      "TimeSignature       10227 non-null int64\n",
      "Valence             10227 non-null float64\n",
      "Hot                 10227 non-null int64\n",
      "dtypes: float64(10), int64(8), object(2)\n",
      "memory usage: 1.6+ MB\n"
     ]
    }
   ],
   "source": [
    "Not.info()"
   ]
  },
  {
   "cell_type": "markdown",
   "metadata": {},
   "source": [
    "### The Final Dataset"
   ]
  },
  {
   "cell_type": "markdown",
   "metadata": {},
   "source": [
    "Concatenate the datasets create our final dataset."
   ]
  },
  {
   "cell_type": "code",
   "execution_count": null,
   "metadata": {},
   "outputs": [],
   "source": [
    "hotornot = pd.concat([Hot, Not], axis = 0)"
   ]
  }
 ],
 "metadata": {
  "kernelspec": {
   "display_name": "Python 3",
   "language": "python",
   "name": "python3"
  },
  "language_info": {
   "codemirror_mode": {
    "name": "ipython",
    "version": 3
   },
   "file_extension": ".py",
   "mimetype": "text/x-python",
   "name": "python",
   "nbconvert_exporter": "python",
   "pygments_lexer": "ipython3",
   "version": "3.7.3"
  }
 },
 "nbformat": 4,
 "nbformat_minor": 2
}
