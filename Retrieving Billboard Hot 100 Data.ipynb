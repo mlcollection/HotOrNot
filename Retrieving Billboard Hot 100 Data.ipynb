{
 "cells": [
  {
   "cell_type": "markdown",
   "metadata": {},
   "source": [
    "<img src=\"images/Billboard%20Hot%20100%20black.png\" width=\"400\"/>"
   ]
  },
  {
   "cell_type": "markdown",
   "metadata": {},
   "source": [
    "### Import packages"
   ]
  },
  {
   "cell_type": "code",
   "execution_count": 1,
   "metadata": {},
   "outputs": [],
   "source": [
    "from datetime import datetime, date\n",
    "from math import ceil\n",
    "import billboard as bb\n",
    "import pandas as pd"
   ]
  },
  {
   "cell_type": "markdown",
   "metadata": {},
   "source": [
    "### Calculate number of charts to retrieve"
   ]
  },
  {
   "cell_type": "code",
   "execution_count": 2,
   "metadata": {},
   "outputs": [
    {
     "name": "stdout",
     "output_type": "stream",
     "text": [
      "3,210 weeks of Billboard Hot 100 charts\n"
     ]
    }
   ],
   "source": [
    "# To discover current chart date\n",
    "current = bb.ChartData('hot-100', '2020-02-01')\n",
    "current.date\n",
    "\n",
    "# Convert to a date object\n",
    "current = datetime.strptime(current.date, '%Y-%m-%d').date()\n",
    "\n",
    "# Find out how many weeks of charts there should be\n",
    "d1 = current\n",
    "d2 = date(1958, 8, 1)\n",
    "Hot100Weeks = ceil((d1 - d2).days/7)\n",
    "\n",
    "print('{:,} weeks of Billboard Hot 100 charts'.format(Hot100Weeks))"
   ]
  },
  {
   "cell_type": "markdown",
   "metadata": {},
   "source": [
    "### Iterate over each week"
   ]
  },
  {
   "cell_type": "code",
   "execution_count": null,
   "metadata": {},
   "outputs": [],
   "source": [
    "chart = bb.ChartData('hot-100', '2020-02-01')\n",
    "\n",
    "chart_date = []\n",
    "title = []\n",
    "artist = []\n",
    "rank = []\n",
    "peak = []\n",
    "weeks = []\n",
    "\n",
    "for Week in range(Hot100Weeks):\n",
    "    \n",
    "    for Song in range(100):\n",
    "        hit = chart[Song]\n",
    "        \n",
    "        try:\n",
    "            chart_date.append(chart.date)\n",
    "            title.append(hit.title)\n",
    "            artist.append(hit.artist)\n",
    "            rank.append(hit.rank)\n",
    "            peak.append(hit.peakPos)\n",
    "            weeks.append(hit.weeks)\n",
    "        \n",
    "        except:\n",
    "            pass\n",
    "        \n",
    "    chart = bb.ChartData('hot-100', chart.previousDate)"
   ]
  },
  {
   "cell_type": "markdown",
   "metadata": {},
   "source": [
    "### Create a dataframe"
   ]
  },
  {
   "cell_type": "code",
   "execution_count": 456,
   "metadata": {},
   "outputs": [],
   "source": [
    "Hot100Complete = pd.DataFrame({\n",
    "    'Date' : chart_date,\n",
    "    'Title' : title,\n",
    "    'Artist' : artist,\n",
    "    'Rank' : rank,\n",
    "    'Peak' : peak,\n",
    "    'Weeks' : weeks\n",
    "    }   \n",
    ")"
   ]
  },
  {
   "cell_type": "markdown",
   "metadata": {
    "scrolled": false
   },
   "source": [
    "### Export to .csv"
   ]
  },
  {
   "cell_type": "code",
   "execution_count": null,
   "metadata": {},
   "outputs": [],
   "source": [
    "Hot100Complete.to_csv('Hot100Complete.csv', index = False)"
   ]
  }
 ],
 "metadata": {
  "kernelspec": {
   "display_name": "Python 3",
   "language": "python",
   "name": "python3"
  },
  "language_info": {
   "codemirror_mode": {
    "name": "ipython",
    "version": 3
   },
   "file_extension": ".py",
   "mimetype": "text/x-python",
   "name": "python",
   "nbconvert_exporter": "python",
   "pygments_lexer": "ipython3",
   "version": "3.7.3"
  }
 },
 "nbformat": 4,
 "nbformat_minor": 2
}
